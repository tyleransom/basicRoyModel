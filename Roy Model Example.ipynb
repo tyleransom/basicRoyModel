{
 "cells": [
  {
   "cell_type": "markdown",
   "metadata": {},
   "source": [
    "Let's look at a simple version of the Roy Model where agents can choose to be teachers or bankers.\n",
    "\n",
    "Skill is distributed log-normally, so the log of skill has a joint normal distribution:\n",
    "\n",
    "So our vector of log ability \\begin{array}{c}\n",
    "\\ln\\left(A_{i,teacher}\\right)\\\\\n",
    "\\ln\\left(A_{i,banker}\\right)\n",
    "\\end{array} \n",
    "\n",
    "is distributed normal with mean \n",
    "\\begin{array}{c}\n",
    "\\mu_{teacher}\\\\\n",
    "\\mu_{banker}\n",
    "\\end{array}\n",
    "\n",
    "and covariance\n",
    "\n",
    "\\begin{array}{cc}\n",
    "\\sigma_{t}^{2} & \\sigma_{t,b}\\\\\n",
    "\\sigma_{t,b} & \\sigma_{b}^{2}\n",
    "\\end{array}\n",
    "\n",
    "Meanwhile, individuals have utility for earnings, which depends on how that ability is rewarded in the economy\n",
    "\n",
    "$$w_{i,teacher} = \\beta_{t}A_{i,teacher}\\\\\n",
    "  w_{i,banker}  = \\beta_{b}A_{i,banker}$$\n",
    "  \n",
    "We want to see how selection operates differently within each sector; we want to calculate, e.g.\n",
    "\n",
    "$$ E[A_{i,teacher}\\,|\\,chose\\,to\\,be\\,a\\,teacher]$$\n",
    "\n",
    "We'll see how different it looks under different assumptions about the distributional parameters and returns to skill."
   ]
  },
  {
   "cell_type": "code",
   "execution_count": 36,
   "metadata": {},
   "outputs": [
    {
     "data": {
      "text/plain": [
       "royModel (generic function with 1 method)"
      ]
     },
     "execution_count": 36,
     "metadata": {},
     "output_type": "execute_result"
    }
   ],
   "source": [
    "function royModel(N,μ_t,μ_b,σ_t,σ_b,σ_tb,β_t,β_b)\n",
    "    # Define skill distribution\n",
    "    skill_dist = MvNormal([μ_t,μ_b], cat(1,cat(2,σ_t,σ_tb),cat(2,σ_tb,σ_b)))\n",
    "\n",
    "    # Draw population\n",
    "    AbilityMat = rand(skill_dist,N);\n",
    "\n",
    "    teacher_abil = AbilityMat[1,:];\n",
    "    banker_abil = AbilityMat[2,:];\n",
    "\n",
    "    w_teacher = β_t*exp.(teacher_abil);\n",
    "    w_banker = β_b*exp.(banker_abil);\n",
    "\n",
    "    println(\"Average wages\")\n",
    "    println(round(mean(w_teacher),2),\" mean teaching wage (unconditional)\")\n",
    "    println(round(mean(w_banker),2),\" mean banking wage (unconditional)\")\n",
    "    println(\"\")\n",
    "\n",
    "    is_teacher = w_teacher.>w_banker\n",
    "    is_banker  = w_banker .>w_teacher\n",
    "\n",
    "    println(\"Proportion teachers & bankers\")\n",
    "    println(round(100.*mean(is_teacher),2),\"% teachers\")\n",
    "    println(round(100.*mean(is_banker),2),\"% bankers\")\n",
    "    println(\"\")\n",
    "\n",
    "    println(\"Average wages conditional on choice\")\n",
    "    println(round(mean(w_teacher[is_teacher]),2),\" mean teaching wage (observed)\")\n",
    "    println(round(mean(w_banker[is_banker]),2),\" mean banking wage (observed)\")\n",
    "    println(\"\")\n",
    "return\n",
    "end"
   ]
  },
  {
   "cell_type": "markdown",
   "metadata": {},
   "source": [
    "### Run with baseline parameter values"
   ]
  },
  {
   "cell_type": "code",
   "execution_count": 37,
   "metadata": {},
   "outputs": [
    {
     "name": "stdout",
     "output_type": "stream",
     "text": [
      "Average wages\n",
      "9.98 mean teaching wage (unconditional)\n",
      "13.76 mean banking wage (unconditional)\n",
      "\n",
      "Proportion teachers & bankers\n",
      "34.72% teachers\n",
      "65.28% bankers\n",
      "\n",
      "Average wages conditional on choice\n",
      "14.28 mean teaching wage (observed)\n",
      "16.54 mean banking wage (observed)\n",
      "\n"
     ]
    }
   ],
   "source": [
    "N = 5000;\n",
    "\n",
    "μ_t = 2.2;\n",
    "μ_b = 2.5;\n",
    "\n",
    "σ_t = 0.9;\n",
    "σ_b = 0.9;\n",
    "σ_tb = 0.6;\n",
    "\n",
    "β_t = 0.7;\n",
    "β_b = 0.7;\n",
    "\n",
    "royModel(N,μ_t,μ_b,σ_t,σ_b,σ_tb,β_t,β_b)"
   ]
  },
  {
   "cell_type": "markdown",
   "metadata": {},
   "source": [
    "### Make ability negatively correlated"
   ]
  },
  {
   "cell_type": "code",
   "execution_count": 38,
   "metadata": {},
   "outputs": [
    {
     "name": "stdout",
     "output_type": "stream",
     "text": [
      "Average wages\n",
      "9.9 mean teaching wage (unconditional)\n",
      "13.33 mean banking wage (unconditional)\n",
      "\n",
      "Proportion teachers & bankers\n",
      "43.22% teachers\n",
      "56.78% bankers\n",
      "\n",
      "Average wages conditional on choice\n",
      "17.38 mean teaching wage (observed)\n",
      "19.91 mean banking wage (observed)\n",
      "\n"
     ]
    }
   ],
   "source": [
    "σ_tb = -0.6;\n",
    "royModel(N,μ_t,μ_b,σ_t,σ_b,σ_tb,β_t,β_b)"
   ]
  },
  {
   "cell_type": "markdown",
   "metadata": {},
   "source": [
    "### Increase returns to teaching ability"
   ]
  },
  {
   "cell_type": "code",
   "execution_count": 39,
   "metadata": {},
   "outputs": [
    {
     "name": "stdout",
     "output_type": "stream",
     "text": [
      "Average wages\n",
      "11.85 mean teaching wage (unconditional)\n",
      "13.6 mean banking wage (unconditional)\n",
      "\n",
      "Proportion teachers & bankers\n",
      "47.1% teachers\n",
      "52.9% bankers\n",
      "\n",
      "Average wages conditional on choice\n",
      "19.86 mean teaching wage (observed)\n",
      "21.28 mean banking wage (observed)\n",
      "\n"
     ]
    }
   ],
   "source": [
    "β_t = 1.2*β_b;\n",
    "royModel(N,μ_t,μ_b,σ_t,σ_b,σ_tb,β_t,β_b)"
   ]
  },
  {
   "cell_type": "markdown",
   "metadata": {},
   "source": [
    "### Make ability positively correlated again"
   ]
  },
  {
   "cell_type": "code",
   "execution_count": 40,
   "metadata": {},
   "outputs": [
    {
     "name": "stdout",
     "output_type": "stream",
     "text": [
      "Average wages\n",
      "11.89 mean teaching wage (unconditional)\n",
      "13.36 mean banking wage (unconditional)\n",
      "\n",
      "Proportion teachers & bankers\n",
      "43.96% teachers\n",
      "56.04% bankers\n",
      "\n",
      "Average wages conditional on choice\n",
      "16.06 mean teaching wage (observed)\n",
      "16.65 mean banking wage (observed)\n",
      "\n"
     ]
    }
   ],
   "source": [
    "σ_tb = 0.6;\n",
    "royModel(N,μ_t,μ_b,σ_t,σ_b,σ_tb,β_t,β_b)"
   ]
  },
  {
   "cell_type": "markdown",
   "metadata": {},
   "source": [
    "### Decrease variance of teaching ability"
   ]
  },
  {
   "cell_type": "code",
   "execution_count": 41,
   "metadata": {},
   "outputs": [
    {
     "name": "stdout",
     "output_type": "stream",
     "text": [
      "Average wages\n",
      "10.62 mean teaching wage (unconditional)\n",
      "13.07 mean banking wage (unconditional)\n",
      "\n",
      "Proportion teachers & bankers\n",
      "43.76% teachers\n",
      "56.24% bankers\n",
      "\n",
      "Average wages conditional on choice\n",
      "12.12 mean teaching wage (observed)\n",
      "17.14 mean banking wage (observed)\n",
      "\n"
     ]
    }
   ],
   "source": [
    "σ_t = 0.7;\n",
    "royModel(N,μ_t,μ_b,σ_t,σ_b,σ_tb,β_t,β_b)"
   ]
  },
  {
   "cell_type": "code",
   "execution_count": null,
   "metadata": {},
   "outputs": [],
   "source": []
  }
 ],
 "metadata": {
  "kernelspec": {
   "display_name": "Julia 0.6.0",
   "language": "julia",
   "name": "julia-0.6"
  },
  "language_info": {
   "file_extension": ".jl",
   "mimetype": "application/julia",
   "name": "julia",
   "version": "0.6.0"
  }
 },
 "nbformat": 4,
 "nbformat_minor": 2
}
