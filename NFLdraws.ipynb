{
 "cells": [
  {
   "cell_type": "markdown",
   "metadata": {},
   "source": [
    "### NFL coin flip simulation"
   ]
  },
  {
   "cell_type": "code",
   "execution_count": 8,
   "metadata": {},
   "outputs": [
    {
     "name": "stdout",
     "output_type": "stream",
     "text": [
      "Probability of undefeated team through 7 games: 0.22\n",
      "Probability of winless team through 7 games: 0.225\n"
     ]
    }
   ],
   "source": [
    "srand(1234);\n",
    "N = 32;\n",
    "T = 7;\n",
    "D = 1000;\n",
    "\n",
    "function coin_flip(N,T)\n",
    "    draw = rand(N,T)\n",
    "    win  = draw.>.5;\n",
    "    return win\n",
    "end\n",
    "\n",
    "num_perfect = zeros(D)\n",
    "num_winless = zeros(D)\n",
    "for d=1:D\n",
    "    outcomes = coin_flip(N,T)\n",
    "    num_wins = sum(1.0.*(outcomes.==true),2)\n",
    "    num_perfect[d] = sum(1.0*(num_wins.==T))\n",
    "    num_winless[d] = sum(1.0*(num_wins.==0))\n",
    "end\n",
    "\n",
    "println(\"Probability of undefeated team through \",T,\" games: \",sum(num_perfect.>0)./D)\n",
    "\n",
    "println(\"Probability of winless team through \",T,\" games: \",sum(num_winless.>0)./D)"
   ]
  },
  {
   "cell_type": "code",
   "execution_count": null,
   "metadata": {},
   "outputs": [],
   "source": []
  }
 ],
 "metadata": {
  "kernelspec": {
   "display_name": "Julia 0.6.0",
   "language": "julia",
   "name": "julia-0.6"
  },
  "language_info": {
   "file_extension": ".jl",
   "mimetype": "application/julia",
   "name": "julia",
   "version": "0.6.0"
  }
 },
 "nbformat": 4,
 "nbformat_minor": 2
}
